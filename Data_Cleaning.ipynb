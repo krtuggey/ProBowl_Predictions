{
 "cells": [
  {
   "cell_type": "code",
   "execution_count": 1,
   "id": "015a921b",
   "metadata": {},
   "outputs": [],
   "source": [
    "# Import dependencies\n",
    "\n",
    "import pandas as pd\n",
    "import numpy as np\n",
    "from functools import reduce"
   ]
  },
  {
   "cell_type": "code",
   "execution_count": 2,
   "id": "6ecb242c",
   "metadata": {},
   "outputs": [],
   "source": [
    "# Import 2019 raw data\n",
    "\n",
    "passing_2019 = pd.read_excel(\"Resources/2019_Raw/Passing_2019.xlsx\")\n",
    "rushing_2019 = pd.read_excel(\"Resources/2019_Raw/Rushing_2019.xlsx\")\n",
    "receiving_2019 = pd.read_excel(\"Resources/2019_Raw/Receiving_2019.xlsx\")\n",
    "probowl_2019 = pd.read_excel(\"Resources/2019_Raw/ProBowl_2019.xlsx\")\n",
    "\n",
    "passing_2020 = pd.read_excel(\"Resources/2020_Raw/Passing_2020.xlsx\")\n",
    "rushing_2020 = pd.read_excel(\"Resources/2020_Raw/Rushing_2020.xlsx\")\n",
    "receiving_2020 = pd.read_excel(\"Resources/2020_Raw/Receiving_2020.xlsx\")\n",
    "probowl_2020 = pd.read_excel(\"Resources/2020_Raw/ProBowl_2020.xlsx\")"
   ]
  },
  {
   "cell_type": "code",
   "execution_count": 3,
   "id": "fe5791e5",
   "metadata": {},
   "outputs": [],
   "source": [
    "# Drop unnecessary columns\n",
    "\n",
    "passing_2019 = passing_2019.drop(columns=['Rk', 'Cmp%', 'TD%', 'Int%', '1D', 'Lng', 'Y/A', 'AY/A', 'Y/C', 'Y/G', 'Rate', 'QBR', 'Sk', 'Yds.1', 'NY/A', 'ANY/A', 'Sk%'])\n",
    "rushing_2019 = rushing_2019.drop(columns=['Rk', '1D', 'Lng', 'Y/A', 'Y/G', 'Fmb'])\n",
    "receiving_2019 = receiving_2019.drop(columns=['Rk', 'Ctch%', 'Y/R', '1D', 'Lng', 'Y/Tgt', 'R/G', 'Y/G'])\n",
    "\n",
    "passing_2020 = passing_2020.drop(columns=['Rk', 'Cmp%', 'TD%', 'Int%', '1D', 'Lng', 'Y/A', 'AY/A', 'Y/C', 'Y/G', 'Rate', 'QBR', 'Sk', 'Yds.1', 'NY/A', 'ANY/A', 'Sk%'])\n",
    "rushing_2020 = rushing_2020.drop(columns=['Rk', '1D', 'Lng', 'Y/A', 'Y/G', 'Fmb'])\n",
    "receiving_2020 = receiving_2020.drop(columns=['Rk', 'Ctch%', 'Y/R', '1D', 'Lng', 'Y/Tgt', 'R/G', 'Y/G'])"
   ]
  },
  {
   "cell_type": "code",
   "execution_count": 4,
   "id": "21dabf07",
   "metadata": {},
   "outputs": [],
   "source": [
    "# Rename columns\n",
    "\n",
    "passing_2019 = passing_2019.rename(columns={'Att': 'Pass_Att', 'Yds': 'Pass_Yds', 'TD': 'Pass_TD'})\n",
    "rushing_2019 = rushing_2019.rename(columns={'Att': 'Rush_Att', 'Yds': 'Rush_Yds', 'TD': 'Rush_TD'})\n",
    "receiving_2019 = receiving_2019.rename(columns={'Yds': 'Rec_Yds', 'TD': 'Rec_TD'})\n",
    "\n",
    "passing_2020 = passing_2020.rename(columns={'Att': 'Pass_Att', 'Yds': 'Pass_Yds', 'TD': 'Pass_TD'})\n",
    "rushing_2020 = rushing_2020.rename(columns={'Att': 'Rush_Att', 'Yds': 'Rush_Yds', 'TD': 'Rush_TD'})\n",
    "receiving_2020 = receiving_2020.rename(columns={'Yds': 'Rec_Yds', 'TD': 'Rec_TD'})"
   ]
  },
  {
   "cell_type": "code",
   "execution_count": 5,
   "id": "8c130160",
   "metadata": {},
   "outputs": [],
   "source": [
    "# Capitalize positions\n",
    "\n",
    "passing_2019['Pos'] = passing_2019['Pos'].str.upper()\n",
    "rushing_2019['Pos'] = rushing_2019['Pos'].str.upper()\n",
    "receiving_2019['Pos'] = receiving_2019['Pos'].str.upper()\n",
    "\n",
    "passing_2020['Pos'] = passing_2020['Pos'].str.upper()\n",
    "rushing_2020['Pos'] = rushing_2020['Pos'].str.upper()\n",
    "receiving_2020['Pos'] = receiving_2020['Pos'].str.upper()"
   ]
  },
  {
   "cell_type": "code",
   "execution_count": 6,
   "id": "1758a651",
   "metadata": {},
   "outputs": [],
   "source": [
    "# Merge dataframes\n",
    "\n",
    "dfs_2019 = [passing_2019, rushing_2019, receiving_2019]\n",
    "total_2019 = reduce(lambda left,right: pd.merge(left,right,how='outer',on=['Player', 'Tm', 'Age', 'Pos', 'G', 'GS']), dfs_2019)\n",
    "\n",
    "dfs_2020 = [passing_2020, rushing_2020, receiving_2020]\n",
    "total_2020 = reduce(lambda left,right: pd.merge(left,right,how='outer',on=['Player', 'Tm', 'Age', 'Pos', 'G', 'GS']), dfs_2020)"
   ]
  },
  {
   "cell_type": "code",
   "execution_count": 7,
   "id": "5c25c638",
   "metadata": {},
   "outputs": [],
   "source": [
    "# Fill NaNs\n",
    "\n",
    "total_2019 = total_2019.fillna(0)\n",
    "total_2020 = total_2020.fillna(0)"
   ]
  },
  {
   "cell_type": "code",
   "execution_count": 8,
   "id": "8d5aad19",
   "metadata": {},
   "outputs": [],
   "source": [
    "# Strip whitespace\n",
    "\n",
    "total_2019['Player'] = total_2019['Player'].str.strip()\n",
    "total_2020['Player'] = total_2020['Player'].str.strip()"
   ]
  },
  {
   "cell_type": "code",
   "execution_count": 9,
   "id": "2c9015ae",
   "metadata": {},
   "outputs": [],
   "source": [
    "# Remove unnecessary positions\n",
    "\n",
    "positions = ['QB', 'RB', 'WR', 'TE']\n",
    "total_2019 = total_2019[total_2019['Pos'].isin(positions)]\n",
    "total_2020 = total_2020[total_2020['Pos'].isin(positions)]"
   ]
  },
  {
   "cell_type": "code",
   "execution_count": 10,
   "id": "1b22dc17",
   "metadata": {},
   "outputs": [],
   "source": [
    "# Add Pro_Bowl column\n",
    "\n",
    "def pb19(row):\n",
    "    if row['Player'] in list(probowl_2019['Player']):\n",
    "        val = True\n",
    "    else:\n",
    "        val = False\n",
    "    return val\n",
    "\n",
    "total_2019['Pro_Bowl'] = total_2019.apply(pb19, axis=1)"
   ]
  },
  {
   "cell_type": "code",
   "execution_count": 11,
   "id": "b776855c",
   "metadata": {},
   "outputs": [],
   "source": [
    "# Add Pro_Bowl column\n",
    "\n",
    "def pb20(row):\n",
    "    if row['Player'] in list(probowl_2020['Player']):\n",
    "        val = True\n",
    "    else:\n",
    "        val = False\n",
    "    return val\n",
    "\n",
    "total_2020['Pro_Bowl'] = total_2020.apply(pb20, axis=1)"
   ]
  },
  {
   "cell_type": "code",
   "execution_count": 12,
   "id": "e8abd360",
   "metadata": {
    "scrolled": true
   },
   "outputs": [],
   "source": [
    "# Export CSVs\n",
    "\n",
    "total_2019.to_csv('Resources/2019_Clean/Total_Stats_2019.csv', index=False)\n",
    "total_2019[total_2019['Pos'] == 'QB'].to_csv('Resources/2019_Clean/QB_2019.csv', index=False)\n",
    "total_2019[total_2019['Pos'] == 'RB'].to_csv('Resources/2019_Clean/RB_2019.csv', index=False)\n",
    "total_2019[total_2019['Pos'] == 'WR'].to_csv('Resources/2019_Clean/WR_2019.csv', index=False)\n",
    "total_2019[total_2019['Pos'] == 'TE'].to_csv('Resources/2019_Clean/TE_2019.csv', index=False)\n",
    "\n",
    "total_2020.to_csv('Resources/2020_Clean/Total_Stats_2020.csv', index=False)\n",
    "total_2020[total_2020['Pos'] == 'QB'].to_csv('Resources/2020_Clean/QB_2020.csv', index=False)\n",
    "total_2020[total_2020['Pos'] == 'RB'].to_csv('Resources/2020_Clean/RB_2020.csv', index=False)\n",
    "total_2020[total_2020['Pos'] == 'WR'].to_csv('Resources/2020_Clean/WR_2020.csv', index=False)\n",
    "total_2020[total_2020['Pos'] == 'TE'].to_csv('Resources/2020_Clean/TE_2020.csv', index=False)"
   ]
  }
 ],
 "metadata": {
  "kernelspec": {
   "display_name": "PythonData",
   "language": "python",
   "name": "pythondata"
  },
  "language_info": {
   "codemirror_mode": {
    "name": "ipython",
    "version": 3
   },
   "file_extension": ".py",
   "mimetype": "text/x-python",
   "name": "python",
   "nbconvert_exporter": "python",
   "pygments_lexer": "ipython3",
   "version": "3.7.10"
  }
 },
 "nbformat": 4,
 "nbformat_minor": 5
}
